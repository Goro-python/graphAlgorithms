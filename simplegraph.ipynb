{
 "cells": [
  {
   "cell_type": "code",
   "execution_count": 16,
   "metadata": {},
   "outputs": [
    {
     "name": "stdout",
     "output_type": "stream",
     "text": [
      "[14, 24, 34, 40, 41, 42, 43, 44, 45, 46, 47, 48, 49, 54, 64, 74, 84, 94, 104, 114]\n"
     ]
    }
   ],
   "source": [
    "def findDigit(low,high,d):\n",
    "    \n",
    "    ans=[];\n",
    "    \n",
    "    for i in range(low,high):\n",
    "        \n",
    "        if str(i).find(str(d))==-1:\n",
    "            continue;\n",
    "        else:\n",
    "            ans.append(i);\n",
    "            \n",
    "    return ans;\n",
    "    \n",
    " \n",
    "\n",
    "#testcase:\n",
    "\n",
    "print(findDigit(10,120,4));\n",
    "            \n",
    "    "
   ]
  },
  {
   "cell_type": "code",
   "execution_count": 1,
   "metadata": {},
   "outputs": [
    {
     "data": {
      "text/plain": [
       "'10'"
      ]
     },
     "execution_count": 1,
     "metadata": {},
     "output_type": "execute_result"
    }
   ],
   "source": [
    "str(10)"
   ]
  },
  {
   "cell_type": "code",
   "execution_count": 6,
   "metadata": {},
   "outputs": [],
   "source": [
    "number=str(10)"
   ]
  },
  {
   "cell_type": "code",
   "execution_count": 7,
   "metadata": {},
   "outputs": [
    {
     "data": {
      "text/plain": [
       "'10'"
      ]
     },
     "execution_count": 7,
     "metadata": {},
     "output_type": "execute_result"
    }
   ],
   "source": [
    "number"
   ]
  },
  {
   "cell_type": "code",
   "execution_count": 9,
   "metadata": {},
   "outputs": [
    {
     "data": {
      "text/plain": [
       "0"
      ]
     },
     "execution_count": 9,
     "metadata": {},
     "output_type": "execute_result"
    }
   ],
   "source": [
    "number.index('1')"
   ]
  },
  {
   "cell_type": "code",
   "execution_count": 18,
   "metadata": {},
   "outputs": [
    {
     "name": "stdout",
     "output_type": "stream",
     "text": [
      "1\n"
     ]
    }
   ],
   "source": [
    "import collections\n",
    "\n",
    "class Node(object):\n",
    "    \n",
    "    \n",
    "    def __init__(self,val):\n",
    "        \n",
    "        self.val=val;\n",
    "        self.next=None;\n",
    "        \n",
    "    def detectCycle(self,head):\n",
    "        \n",
    "        tab=collections.defaultdict(int);\n",
    "        \n",
    "        temp=head;\n",
    "        \n",
    "        count=0;\n",
    "        \n",
    "        while(temp!=None):\n",
    "            \n",
    "            if temp in tab:\n",
    "                return tab[temp];\n",
    "            \n",
    "            else:\n",
    "                tab[temp]=count;\n",
    "                temp=temp.next;\n",
    "                count+=1;\n",
    "\n",
    "        return -1;\n",
    "\n",
    "#test case:\n",
    "\n",
    "head=Node(3);\n",
    "\n",
    "head.next=Node(2);\n",
    "\n",
    "head.next.next=Node(4);\n",
    "\n",
    "head.next.next = Node(5);\n",
    "\n",
    "head.next.next.next=head.next;\n",
    "\n",
    "print(head.detectCycle(head));\n",
    "\n",
    "\n",
    "\n",
    "\n",
    "        \n",
    "        "
   ]
  },
  {
   "cell_type": "code",
   "execution_count": 68,
   "metadata": {},
   "outputs": [
    {
     "name": "stdout",
     "output_type": "stream",
     "text": [
      "0\n",
      "1\n",
      "4\n",
      "3\n",
      "2\n",
      "6\n",
      "5\n"
     ]
    }
   ],
   "source": [
    "import collections\n",
    "class Graph(object):  #directed edge \n",
    "    \n",
    "    def __init__(self,nodeList):\n",
    "        self.tab=collections.defaultdict(list);\n",
    "        self.nodeList=nodeList;\n",
    "        for node in self.nodeList:\n",
    "            self.tab[node]=[];\n",
    "            \n",
    "        self.recStack=[];\n",
    "        \n",
    "        self.cycleChild=None;\n",
    "        \n",
    "        self.cyclePath=[];\n",
    "    \n",
    "    def fillNeighbour(self,dest,source):\n",
    "        \n",
    "        self.tab[source].append(dest);\n",
    "        \n",
    "    def detectCycleUtil(self,node,visited,stack):\n",
    "        \n",
    "        visited[node]=True;\n",
    "        \n",
    "        stack[node]=True;\n",
    "        \n",
    "        self.recStack.append(node);\n",
    "        \n",
    "        for child in self.tab[node]:\n",
    "            \n",
    "            if not visited[child] and self.detectCycleUtil(child,visited,stack):\n",
    "                \n",
    "                return True;\n",
    "                \n",
    "            elif stack[child]:\n",
    "                self.cycleChild=child;\n",
    "                return True;\n",
    "            \n",
    "        self.recStack.pop();\n",
    "        stack[node]=False;\n",
    "        return False;\n",
    "        \n",
    "    def detectCycle(self):\n",
    "        \n",
    "        \n",
    "        visited=[False]*len(self.nodeList);\n",
    "        stack=[False]*len(self.nodeList);\n",
    "        \n",
    "        \n",
    "        for node in self.nodeList:\n",
    "            \n",
    "            if not visited[node]:\n",
    "                if self.detectCycleUndirUtil(node,visited,-1): # for undirected graph\n",
    "                    \n",
    "                    print(self.recStack)\n",
    "                    while(self.recStack):\n",
    "                        currentNode = self.recStack[-1];\n",
    "                        self.cyclePath.append(str(currentNode))\n",
    "                        self.recStack.pop();\n",
    "                        if currentNode==self.cycleChild:\n",
    "                            break;\n",
    "                    \n",
    "                    return True;\n",
    "        return False;\n",
    "    \n",
    "    \n",
    "    def dfsIterUtil(self,node,visited):\n",
    "        \n",
    "        stack=[];\n",
    "        stack.append(node);\n",
    "        visited[node]=True;\n",
    "        \n",
    "        while stack:\n",
    "            cur=stack.pop();\n",
    "            print(cur)\n",
    "            for child in self.tab[cur]:\n",
    "                if not visited[child]:\n",
    "                    \n",
    "                    stack.append(child);\n",
    "                    visited[child]=True;\n",
    "                    \n",
    "\n",
    "  \n",
    "    def dfsIter(self):\n",
    "        \n",
    "        visited=[False]*len(self.nodeList);\n",
    "\n",
    "        for node in self.nodeList:\n",
    "            \n",
    "            if not visited[node]:\n",
    "                \n",
    "                self.dfsIterUtil(node,visited);        \n",
    "                \n",
    "                \n",
    "    def detectCycleUndirUtil(self,node,visited,parent):\n",
    "        \n",
    "        visited[node]=True;\n",
    "        self.recStack.append(node);\n",
    "        for ne in self.tab[node]:\n",
    "            \n",
    "            if not visited[ne]:\n",
    "                \n",
    "                if self.detectCycleUndirUtil(ne,visited,node):\n",
    "                    return True;\n",
    "\n",
    "            elif parent!=ne:\n",
    "                self.cycleChild=ne;\n",
    "                return True;\n",
    "                \n",
    "        return False;\n",
    "    \n",
    "    \n",
    "    \n",
    "    \n",
    "        \n",
    "        \n",
    "        \n",
    "                \n",
    "     \n",
    "            \n",
    "            \n",
    "#testcase:\n",
    "\n",
    "nodeList=[0,1,2,3,4,5,6];\n",
    "G=Graph(nodeList);\n",
    "\n",
    "G.fillNeighbour(2,0);G.fillNeighbour(0,2);\n",
    "G.fillNeighbour(5,2);G.fillNeighbour(2,5);\n",
    "G.fillNeighbour(6,5);G.fillNeighbour(5,6);\n",
    "G.fillNeighbour(2,6);G.fillNeighbour(6,2);\n",
    "\n",
    "G.fillNeighbour(1,0);G.fillNeighbour(0,1);\n",
    "G.fillNeighbour(3,1);G.fillNeighbour(1,3);\n",
    "G.fillNeighbour(4,3);G.fillNeighbour(3,4);\n",
    "G.fillNeighbour(4,1);G.fillNeighbour(1,4);\n",
    "#G.fillNeighbour(2,2);G.fillNeighbour(2,2)\n",
    "\n",
    "\n",
    "G.dfsIter()\n",
    "\n",
    "\n",
    "\n",
    "            \n",
    "\n",
    "            \n",
    "        \n",
    "        \n",
    "        \n",
    "        "
   ]
  },
  {
   "cell_type": "code",
   "execution_count": 69,
   "metadata": {},
   "outputs": [
    {
     "name": "stdout",
     "output_type": "stream",
     "text": [
      "[0, 2, 5, 6]\n"
     ]
    },
    {
     "data": {
      "text/plain": [
       "True"
      ]
     },
     "execution_count": 69,
     "metadata": {},
     "output_type": "execute_result"
    }
   ],
   "source": [
    "G.detectCycle()"
   ]
  },
  {
   "cell_type": "code",
   "execution_count": 71,
   "metadata": {},
   "outputs": [
    {
     "data": {
      "text/plain": [
       "['2', '5', '6']"
      ]
     },
     "execution_count": 71,
     "metadata": {},
     "output_type": "execute_result"
    }
   ],
   "source": [
    "G.cyclePath[::-1]"
   ]
  },
  {
   "cell_type": "code",
   "execution_count": 36,
   "metadata": {},
   "outputs": [
    {
     "data": {
      "text/plain": [
       "'N->'"
      ]
     },
     "execution_count": 36,
     "metadata": {},
     "output_type": "execute_result"
    }
   ],
   "source": [
    "'N'+'->'"
   ]
  },
  {
   "cell_type": "code",
   "execution_count": 72,
   "metadata": {},
   "outputs": [
    {
     "data": {
      "text/plain": [
       "-2"
      ]
     },
     "execution_count": 72,
     "metadata": {},
     "output_type": "execute_result"
    }
   ],
   "source": [
    "~1"
   ]
  },
  {
   "cell_type": "code",
   "execution_count": 74,
   "metadata": {},
   "outputs": [
    {
     "data": {
      "text/plain": [
       "0"
      ]
     },
     "execution_count": 74,
     "metadata": {},
     "output_type": "execute_result"
    }
   ],
   "source": [
    "int(not 1)"
   ]
  },
  {
   "cell_type": "code",
   "execution_count": null,
   "metadata": {},
   "outputs": [],
   "source": []
  }
 ],
 "metadata": {
  "kernelspec": {
   "display_name": "Python 3",
   "language": "python",
   "name": "python3"
  },
  "language_info": {
   "codemirror_mode": {
    "name": "ipython",
    "version": 3
   },
   "file_extension": ".py",
   "mimetype": "text/x-python",
   "name": "python",
   "nbconvert_exporter": "python",
   "pygments_lexer": "ipython3",
   "version": "3.7.3"
  }
 },
 "nbformat": 4,
 "nbformat_minor": 2
}
